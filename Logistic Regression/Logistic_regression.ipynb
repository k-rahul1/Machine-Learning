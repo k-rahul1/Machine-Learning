{
  "nbformat": 4,
  "nbformat_minor": 0,
  "metadata": {
    "colab": {
      "provenance": []
    },
    "kernelspec": {
      "name": "python3",
      "display_name": "Python 3"
    },
    "language_info": {
      "name": "python"
    }
  },
  "cells": [
    {
      "cell_type": "markdown",
      "source": [
        "# Logistic Regression"
      ],
      "metadata": {
        "id": "UuorebHjG6YU"
      }
    },
    {
      "cell_type": "code",
      "execution_count": null,
      "metadata": {
        "id": "oPqEfVA-5_SL"
      },
      "outputs": [],
      "source": [
        "import pandas as pd\n",
        "import numpy as np\n",
        "import matplotlib.pyplot as plt\n",
        "from matplotlib.colors import ListedColormap\n",
        "from scipy.io import loadmat\n",
        "import seaborn as sbn"
      ]
    },
    {
      "cell_type": "markdown",
      "source": [
        "Loading the data and splitting the training and test data"
      ],
      "metadata": {
        "id": "7JVx8ddpG-ON"
      }
    },
    {
      "cell_type": "code",
      "source": [
        "data = loadmat(r\"hw02_dataset.mat\")\n",
        "X_train = data['X_trn']\n",
        "Y_train = data['Y_trn']\n",
        "X_test = data['X_tst']\n",
        "Y_test = data['Y_tst']"
      ],
      "metadata": {
        "id": "yYSU9bzSDW_A"
      },
      "execution_count": null,
      "outputs": []
    },
    {
      "cell_type": "markdown",
      "source": [
        "Applying Logistic Regression on training data and predicting for test data"
      ],
      "metadata": {
        "id": "E2zihNy6HKQ6"
      }
    },
    {
      "cell_type": "code",
      "source": [
        "from sklearn.linear_model import LogisticRegression\n",
        "logReg = LogisticRegression(penalty='none')\n",
        "logReg.fit(X_train,np.ravel(Y_train))\n",
        "Y_pred = logReg.predict(X_test)"
      ],
      "metadata": {
        "id": "x2m8mtSWNnHX"
      },
      "execution_count": null,
      "outputs": []
    },
    {
      "cell_type": "markdown",
      "source": [
        "Calculating the error and accuracy for test data"
      ],
      "metadata": {
        "id": "scmjRfKlHU4p"
      }
    },
    {
      "cell_type": "code",
      "source": [
        "error_arr = np.subtract(Y_test.ravel(),Y_pred,dtype=np.int32)\n",
        "error = np.sum(np.abs(error_arr),dtype=np.float32)/error_arr.size\n",
        "accuracy = 1-error\n",
        "print(f\"Classification error on test set is {error*100:.2f}%.\")\n",
        "print(f\"Classification accuracy on test set is {accuracy*100:.2f}%.\")"
      ],
      "metadata": {
        "colab": {
          "base_uri": "https://localhost:8080/"
        },
        "id": "cFNsed47OeHj",
        "outputId": "5927b7a9-ad29-4c42-e829-b339a46c7be9"
      },
      "execution_count": 107,
      "outputs": [
        {
          "output_type": "stream",
          "name": "stdout",
          "text": [
            "Classification error on test set is 0.00%.\n",
            "Classification accuracy on test set is 100.00%.\n"
          ]
        }
      ]
    },
    {
      "cell_type": "markdown",
      "source": [
        "Calculating the error and accuracy for training data"
      ],
      "metadata": {
        "id": "cZrhF3EkHck_"
      }
    },
    {
      "cell_type": "code",
      "source": [
        "Y_pred_train = logReg.predict(X_train)\n",
        "errorTrain_arr = np.subtract(Y_train.ravel(),Y_pred_train,dtype = np.int32)\n",
        "errorTrain = np.sum(np.abs(errorTrain_arr),dtype=np.float32)/errorTrain_arr.size\n",
        "accuracyTrain = 1-errorTrain\n",
        "print(f\"Classification error on training set is {errorTrain*100:.2f}%.\")\n",
        "print(f\"Classification accuracy on training set is {accuracyTrain*100:.2f}%.\")"
      ],
      "metadata": {
        "colab": {
          "base_uri": "https://localhost:8080/"
        },
        "id": "Tco4KncfkZBx",
        "outputId": "203522ae-acff-4eae-e276-82bd3add67c1"
      },
      "execution_count": 105,
      "outputs": [
        {
          "output_type": "stream",
          "name": "stdout",
          "text": [
            "Classification error on training set is 2.38%.\n",
            "Classification accuracy on training set is 97.62%.\n"
          ]
        }
      ]
    },
    {
      "cell_type": "markdown",
      "source": [
        "Plotting Scatter diagram with decision boundary for test data"
      ],
      "metadata": {
        "id": "lfXYs_XYHhvy"
      }
    },
    {
      "cell_type": "code",
      "source": [
        "intercept = logReg.intercept_[0]\n",
        "w1, w2 = logReg.coef_.T\n",
        "c= -intercept/w2\n",
        "m = -w1/w2\n",
        "x_val = np.arange(X_test[:,0].min()-0.1, X_test[:,0].max()+0.1,0.1)\n",
        "y_val = m*x_val+c\n",
        "plt.plot(x_val,y_val,'-', c=\"red\")\n",
        "plt.scatter(X_test[:,0],X_test[:,1], c = Y_pred)\n",
        "plt.title(\"Plot for test set (class 0:purple,class 1:yellow,boundary:red)\")"
      ],
      "metadata": {
        "colab": {
          "base_uri": "https://localhost:8080/",
          "height": 298
        },
        "id": "-m9OxIMtHWWP",
        "outputId": "bca35dfd-6f9b-4495-be7a-3cae016a82e8"
      },
      "execution_count": null,
      "outputs": [
        {
          "output_type": "execute_result",
          "data": {
            "text/plain": [
              "Text(0.5, 1.0, 'Plot for test set (class 0:purple,class 1:yellow,boundary:red)')"
            ]
          },
          "metadata": {},
          "execution_count": 75
        },
        {
          "output_type": "display_data",
          "data": {
            "text/plain": [
              "<Figure size 432x288 with 1 Axes>"
            ],
            "image/png": "[encoded data removed]"
          },
          "metadata": {
            "needs_background": "light"
          }
        }
      ]
    },
    {
      "cell_type": "markdown",
      "source": [
        "Plotting Scatter diagram with decision boundary for training data"
      ],
      "metadata": {
        "id": "h8_bM97dHqhf"
      }
    },
    {
      "cell_type": "code",
      "source": [
        "intercept = logReg.intercept_[0]\n",
        "w1, w2 = logReg.coef_.T\n",
        "c= -intercept/w2\n",
        "m = -w1/w2\n",
        "x_val = np.arange(X_train[:,0].min()-0.1, X_train[:,0].max()+0.1,0.1)\n",
        "y_val = m*x_val+c\n",
        "plt.plot(x_val,y_val,'-', c=\"red\")\n",
        "plt.scatter(X_train[:,0],X_train[:,1], c = Y_pred_train)\n",
        "plt.title(\"Plot for training set (class 0:purple,class 1:yellow,boundary:red)\")"
      ],
      "metadata": {
        "colab": {
          "base_uri": "https://localhost:8080/",
          "height": 298
        },
        "id": "7RqU0P6rml42",
        "outputId": "44a47f45-133f-45b0-b6c0-1c8515fce1df"
      },
      "execution_count": null,
      "outputs": [
        {
          "output_type": "execute_result",
          "data": {
            "text/plain": [
              "Text(0.5, 1.0, 'Plot for training set (class 0:purple,class 1:yellow,boundary:red)')"
            ]
          },
          "metadata": {},
          "execution_count": 79
        },
        {
          "output_type": "display_data",
          "data": {
            "text/plain": [
              "<Figure size 432x288 with 1 Axes>"
            ],
            "image/png": "[encoded data removed]"
          },
          "metadata": {
            "needs_background": "light"
          }
        }
      ]
    }
  ]
}